{
 "cells": [
  {
   "attachments": {},
   "cell_type": "markdown",
   "metadata": {},
   "source": [
    "# PARTICLE SWARM OPTIMIZATION"
   ]
  },
  {
   "cell_type": "code",
   "execution_count": 7,
   "metadata": {},
   "outputs": [
    {
     "name": "stdout",
     "output_type": "stream",
     "text": [
      "Optimal solution: [0.09593932 0.08577875 0.53016758 0.76863126 0.92394851]\n",
      "Objective value: inf\n"
     ]
    }
   ],
   "source": [
    "import numpy as np\n",
    "\n",
    "# Define the problem\n",
    "budget = 10000\n",
    "project_costs = np.array([2000, 3000, 4000, 5000, 6000])\n",
    "project_profits = np.array([10000, 15000, 20000, 25000, 30000])\n",
    "\n",
    "# Define the PSO parameters\n",
    "num_particles = 30\n",
    "max_iterations = 1000\n",
    "inertia_weight = 0.8\n",
    "cognitive_weight = 1.5\n",
    "social_weight = 1.5\n",
    "\n",
    "# Define the objective function\n",
    "def profit_objective_function(x):\n",
    "    total_cost = np.dot(project_costs, x)\n",
    "    if total_cost > budget:\n",
    "        return -np.inf  # Penalize solutions that exceed the budget\n",
    "    total_profit = np.dot(project_profits, x)\n",
    "    return -total_profit  # We need to multiply by -1 because the objective function is being minimized\n",
    "\n",
    "# Initialize the particles randomly\n",
    "particles_position = np.random.uniform(0, 1, (num_particles, len(project_costs)))\n",
    "particles_velocity = np.zeros((num_particles, len(project_costs)))\n",
    "particles_best_position = particles_position.copy()\n",
    "particles_best_cost = np.ones(num_particles) * np.inf\n",
    "global_best_position = np.zeros(len(project_costs))\n",
    "global_best_cost = np.inf\n",
    "\n",
    "# Run the PSO algorithm\n",
    "for it in range(max_iterations):\n",
    "    for i in range(num_particles):\n",
    "        # Evaluate the cost of the current position\n",
    "        cost = profit_objective_function(particles_position[i])\n",
    "\n",
    "        # Update the best position of the particle\n",
    "        if cost < particles_best_cost[i]:\n",
    "            particles_best_position[i] = particles_position[i].copy()\n",
    "            particles_best_cost[i] = cost\n",
    "\n",
    "        # Update the global best position\n",
    "        if cost < global_best_cost:\n",
    "            global_best_position = particles_position[i].copy()\n",
    "            global_best_cost = cost\n",
    "\n",
    "        # Update the velocity and position of the particle\n",
    "        r1 = np.random.uniform(0, 1, len(project_costs))\n",
    "        r2 = np.random.uniform(0, 1, len(project_costs))\n",
    "        particles_velocity[i] = inertia_weight * particles_velocity[i] + cognitive_weight * r1 * (particles_best_position[i] - particles_position[i]) + social_weight * r2 * (global_best_position - particles_position[i])\n",
    "        particles_position[i] = np.clip(particles_position[i] + particles_velocity[i], 0, 1)\n",
    "\n",
    "# Print the optimal solution and its objective value\n",
    "print('Optimal solution:', global_best_position)\n",
    "print('Objective value:', -global_best_cost)  # We need to multiply by -1 because the objective function is being minimized"
   ]
  }
 ],
 "metadata": {
  "kernelspec": {
   "display_name": "spyder-env",
   "language": "python",
   "name": "python3"
  },
  "language_info": {
   "codemirror_mode": {
    "name": "ipython",
    "version": 3
   },
   "file_extension": ".py",
   "mimetype": "text/x-python",
   "name": "python",
   "nbconvert_exporter": "python",
   "pygments_lexer": "ipython3",
   "version": "3.10.11"
  },
  "orig_nbformat": 4
 },
 "nbformat": 4,
 "nbformat_minor": 2
}
