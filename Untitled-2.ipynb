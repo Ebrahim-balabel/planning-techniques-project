{
 "cells": [
  {
   "attachments": {},
   "cell_type": "markdown",
   "metadata": {},
   "source": [
    "# ANT COLONY OPTIMIZATION"
   ]
  },
  {
   "attachments": {},
   "cell_type": "markdown",
   "metadata": {},
   "source": [
    "Suppose you are a business owner who wants to optimize the allocation of resources to different projects in order to maximize profits. You have a limited budget and want to allocate resources to different projects such that the total profit is maximized."
   ]
  },
  {
   "cell_type": "code",
   "execution_count": 4,
   "metadata": {},
   "outputs": [
    {
     "name": "stdout",
     "output_type": "stream",
     "text": [
      "Optimal solution: [4 0 3 1 2]\n",
      "Objective value: inf\n"
     ]
    }
   ],
   "source": [
    "import numpy as np\n",
    "\n",
    "# Define the problem\n",
    "budget = 10000\n",
    "project_costs = np.array([2000, 3000, 4000, 5000, 6000])\n",
    "project_profits = np.array([10000, 15000, 20000, 25000, 30000])\n",
    "\n",
    "# Define the ACO parameters\n",
    "num_ants = 30\n",
    "evaporation_rate = 0.5\n",
    "alpha = 1.0\n",
    "beta = 2.0\n",
    "Q = 100.0\n",
    "pheromone_init = 1.0\n",
    "\n",
    "# Initialize the pheromone matrix\n",
    "num_projects = len(project_costs)\n",
    "pheromone_matrix = np.ones((num_projects, num_projects)) * pheromone_init\n",
    "\n",
    "# Define the probability function for selecting the next project\n",
    "def probability_function(current_project, available_projects):\n",
    "    probabilities = pheromone_matrix[current_project, available_projects]**alpha * (1.0 / project_costs[available_projects])**beta\n",
    "    probabilities /= np.sum(probabilities)\n",
    "    return probabilities\n",
    "\n",
    "# Define the objective function\n",
    "def profit_objective_function(x):\n",
    "    total_cost = np.dot(project_costs, x)\n",
    "    if total_cost > budget:\n",
    "        return -np.inf  # Penalize solutions that exceed the budget\n",
    "    total_profit = np.dot(project_profits, x)\n",
    "    return -total_profit  # We need to multiply by -1 because the objective function is being minimized\n",
    "\n",
    "# Run the ACO algorithm\n",
    "for iteration in range(100):\n",
    "    # Initialize the ants\n",
    "    ant_positions = np.zeros((num_ants, num_projects), dtype=int)\n",
    "    ant_costs = np.zeros(num_ants)\n",
    "    for ant in range(num_ants):\n",
    "        current_project = np.random.randint(num_projects)\n",
    "        available_projects = np.arange(num_projects)\n",
    "        ant_positions[ant, 0] = current_project\n",
    "        for step in range(1, num_projects):\n",
    "            probabilities = probability_function(current_project, available_projects)\n",
    "            chosen_project = np.random.choice(available_projects, p=probabilities)\n",
    "            ant_positions[ant, step] = chosen_project\n",
    "            ant_costs[ant] += project_costs[chosen_project]\n",
    "            current_project = chosen_project\n",
    "            available_projects = np.setdiff1d(available_projects, chosen_project)\n",
    "            if len(available_projects) == 0:\n",
    "                break\n",
    "\n",
    "    # Update the pheromone matrix\n",
    "    pheromone_matrix *= evaporation_rate\n",
    "    for ant in range(num_ants):\n",
    "        if ant_costs[ant] <= budget:\n",
    "            for i in range(num_projects - 1):\n",
    "                j = i + 1\n",
    "                pheromone_matrix[ant_positions[ant, i], ant_positions[ant, j]] += Q / ant_costs[ant]\n",
    "\n",
    "    # Find the best solution\n",
    "    best_ant = np.argmin(ant_costs)\n",
    "    best_solution = ant_positions[best_ant]\n",
    "    best_cost = ant_costs[best_ant]\n",
    "    best_profit = -profit_objective_function(best_solution)\n",
    "\n",
    "# Print the optimal solution and its objective value\n",
    "print('Optimal solution:', best_solution)\n",
    "print('Objective value:', best_profit)\n",
    "   "
   ]
  }
 ],
 "metadata": {
  "kernelspec": {
   "display_name": "spyder-env",
   "language": "python",
   "name": "python3"
  },
  "language_info": {
   "codemirror_mode": {
    "name": "ipython",
    "version": 3
   },
   "file_extension": ".py",
   "mimetype": "text/x-python",
   "name": "python",
   "nbconvert_exporter": "python",
   "pygments_lexer": "ipython3",
   "version": "3.10.11"
  },
  "orig_nbformat": 4
 },
 "nbformat": 4,
 "nbformat_minor": 2
}
